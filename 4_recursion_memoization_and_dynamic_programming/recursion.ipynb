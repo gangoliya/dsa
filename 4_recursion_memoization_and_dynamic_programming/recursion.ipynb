{
 "cells": [
  {
   "cell_type": "markdown",
   "metadata": {},
   "source": [
    "We look to two common problems in dynamic programming: \n",
    "- longest common subsequences\n",
    "- knapsack problems\n",
    "   \n",
    "7.29.18"
   ]
  },
  {
   "cell_type": "markdown",
   "metadata": {},
   "source": [
    "## Dynamic Programming - Longest Common Subsequence  \n",
    "> Q1. Write a function to find the length of the longest common __subsequence__ between two sequences. Eg. Given the strings \"serendipitous\" and \"precipitation\", the longest common subsequence is \"reipito\" and its length is 7."
   ]
  },
  {
   "cell_type": "code",
   "execution_count": 1,
   "metadata": {},
   "outputs": [],
   "source": [
    "T0 = {\n",
    "    'input': {\n",
    "        'seq1': 'serendipitous',\n",
    "        'seq2': 'precipitation'\n",
    "    },\n",
    "    'output': 7\n",
    "}\n",
    "\n",
    "T1 = {\n",
    "    'input': {\n",
    "        'seq1': [1, 3, 5, 6, 7, 2, 5, 2, 3],\n",
    "        'seq2': [6, 2, 4, 7, 1, 5, 6, 2, 3]\n",
    "    },\n",
    "    'output': 5\n",
    "}\n",
    "\n",
    "T2 = {\n",
    "    'input': {\n",
    "        'seq1': 'longest',\n",
    "        'seq2': 'stone'\n",
    "    },\n",
    "    'output': 3\n",
    "}\n",
    "\n",
    "T3 = {\n",
    "    'input': {\n",
    "        'seq1': 'asdfwevad',\n",
    "        'seq2': 'opkpoiklklj'\n",
    "    },\n",
    "    'output': 0\n",
    "}\n",
    "\n",
    "T4 = {\n",
    "    'input': {\n",
    "        'seq1': 'dense',\n",
    "        'seq2': 'condensed'\n",
    "    },\n",
    "    'output': 5\n",
    "}\n",
    "\n",
    "T5 = {\n",
    "    'input': {\n",
    "        'seq1': '',\n",
    "        'seq2': 'opkpoiklklj'\n",
    "    },\n",
    "    'output': 0\n",
    "}\n",
    "\n",
    "T6 = {\n",
    "    'input': {\n",
    "        'seq1': '',\n",
    "        'seq2': ''\n",
    "    },\n",
    "    'output': 0\n",
    "}\n",
    "\n",
    "T7 = {\n",
    "    'input': {\n",
    "        'seq1': 'abcdef',\n",
    "        'seq2': 'badcfe'\n",
    "    },\n",
    "    'output': 3\n",
    "}"
   ]
  },
  {
   "cell_type": "code",
   "execution_count": 2,
   "metadata": {},
   "outputs": [],
   "source": [
    "lcq_tests = [T0, T1, T2, T3, T4, T5, T6, T7]"
   ]
  },
  {
   "cell_type": "code",
   "execution_count": 3,
   "metadata": {},
   "outputs": [],
   "source": [
    "def lcs_recursive(seq1, seq2, idx1 = 0, idx2 = 0):\n",
    "    if idx1 == len(seq1) or idx2 == len(seq2):\n",
    "        return 0\n",
    "    elif seq1[idx1] == seq2[idx2]:\n",
    "        return  1 + lcs_recursive(seq1, seq2, idx1+1, idx2+1)\n",
    "    else:\n",
    "        option_1 = lcs_recursive(seq1, seq2, idx1+1, idx2)\n",
    "        option_2 = lcs_recursive(seq1, seq2, idx1, idx2+1)\n",
    "        return max(option_1, option_2)"
   ]
  },
  {
   "cell_type": "code",
   "execution_count": 5,
   "metadata": {},
   "outputs": [
    {
     "data": {
      "text/plain": [
       "{'input': {'seq1': 'serendipitous', 'seq2': 'precipitation'}, 'output': 7}"
      ]
     },
     "execution_count": 5,
     "metadata": {},
     "output_type": "execute_result"
    }
   ],
   "source": [
    "T0"
   ]
  },
  {
   "cell_type": "code",
   "execution_count": 8,
   "metadata": {},
   "outputs": [
    {
     "name": "stdout",
     "output_type": "stream",
     "text": [
      "CPU times: user 197 ms, sys: 0 ns, total: 197 ms\n",
      "Wall time: 187 ms\n"
     ]
    },
    {
     "data": {
      "text/plain": [
       "True"
      ]
     },
     "execution_count": 8,
     "metadata": {},
     "output_type": "execute_result"
    }
   ],
   "source": [
    "%%time\n",
    "lcs_recursive(**T0['input']) == T0['output']"
   ]
  },
  {
   "cell_type": "code",
   "execution_count": null,
   "metadata": {},
   "outputs": [],
   "source": []
  }
 ],
 "metadata": {
  "kernelspec": {
   "display_name": "Python 3",
   "language": "python",
   "name": "python3"
  },
  "language_info": {
   "codemirror_mode": {
    "name": "ipython",
    "version": 3
   },
   "file_extension": ".py",
   "mimetype": "text/x-python",
   "name": "python",
   "nbconvert_exporter": "python",
   "pygments_lexer": "ipython3",
   "version": "3.10.12"
  }
 },
 "nbformat": 4,
 "nbformat_minor": 2
}
