{
 "cells": [
  {
   "cell_type": "markdown",
   "metadata": {},
   "source": [
    "## Binary Search Tree (BST)\n",
    "A binary search tree is a binary tree that satisfies the following conditions:\n",
    "1. The left subtree of any node only contains nodes with keys less than the node's key.\n",
    "1. The right subtree of any node only contains nodes with keys greater than the node's key."
   ]
  },
  {
   "cell_type": "markdown",
   "metadata": {},
   "source": []
  }
 ],
 "metadata": {
  "language_info": {
   "name": "python"
  }
 },
 "nbformat": 4,
 "nbformat_minor": 2
}
