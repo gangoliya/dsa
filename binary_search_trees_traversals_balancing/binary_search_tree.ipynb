{
 "cells": [
  {
   "cell_type": "markdown",
   "metadata": {},
   "source": [
    "## Binary Search Tree (BST)\n",
    "A binary search tree is a binary tree that satisfies the following conditions:\n",
    "1. The left subtree of any node only contains nodes with keys less than the node's key.\n",
    "1. The right subtree of any node only contains nodes with keys greater than the node's key."
   ]
  },
  {
   "cell_type": "code",
   "execution_count": 40,
   "metadata": {},
   "outputs": [],
   "source": [
    "# Q. Check whether given tree is binary tree?\n",
    "# Q. Check the maximum key in binary tree.\n",
    "# Q. Check the minimum key in binary tree.\n",
    "\n",
    "def remove_none(nums):\n",
    "    return [x for x in nums if x is not None]\n",
    "\n",
    "def is_bst(node):\n",
    "    if node is None:\n",
    "        return True, None, None\n",
    "    \n",
    "    is_bst_l, min_l, max_l = is_bst(node.left)\n",
    "    is_bst_r, min_r, max_r = is_bst(node.right)\n",
    "\n",
    "    is_bst_node = (is_bst_l and is_bst_r \n",
    "                   and (max_l is None or node.key > max_l) \n",
    "                   and (min_r is None or node.key < min_r))\n",
    "\n",
    "    min_key = min(remove_none([min_l, node.key, min_r]))\n",
    "    max_key = max(remove_none([max_l, node.key, max_r]))\n",
    "\n",
    "    # print(node.key, min_key, max_key, is_bst_node)\n",
    "\n",
    "    return is_bst_node, min_key, max_key"
   ]
  },
  {
   "cell_type": "code",
   "execution_count": 41,
   "metadata": {},
   "outputs": [],
   "source": [
    "with open('binary_tree.ipynb', 'r', encoding='utf-8') as f:\n",
    "    notebook_code = f.read()\n",
    "\n",
    "exec(notebook_code)"
   ]
  },
  {
   "cell_type": "code",
   "execution_count": 42,
   "metadata": {},
   "outputs": [],
   "source": [
    "class TreeNode:\n",
    "    def __init__(self, key):\n",
    "        self.key, self.left, self.right = key, None, None\n",
    "\n",
    "    def height(self):\n",
    "        if self is None:\n",
    "            return 0\n",
    "        return 1 + max(TreeNode.height(self.left), TreeNode.height(self.right))\n",
    "\n",
    "    def size(self):\n",
    "        if self is None:\n",
    "            return 0\n",
    "        return 1 + TreeNode.size(self.left) + TreeNode.size(self.right)\n",
    "\n",
    "    def traverse_in_order(self):\n",
    "        if self is None:\n",
    "            return []\n",
    "        return (TreeNode.traverse_in_order(self.left) + [self.key] + TreeNode.traverse_in_order(self.right))\n",
    "\n",
    "    def display_keys(self, space='\\t', level=0):\n",
    "        # If node is empty\n",
    "        if self is None:\n",
    "            print(space * level + 'Ø')\n",
    "            return\n",
    "\n",
    "        # If the node is a leaf\n",
    "        if self.left is None and self.right is None:\n",
    "            print(space * level + str(self.key))\n",
    "            return\n",
    "\n",
    "        # If the node has children\n",
    "        if self.right is not None:\n",
    "            self.right.display_keys(space, level + 1)\n",
    "        else:\n",
    "            print(space * (level + 1) + 'Ø')\n",
    "\n",
    "        print(space * level + str(self.key))\n",
    "\n",
    "        if self.left is not None:\n",
    "            self.left.display_keys(space, level + 1)\n",
    "        else:\n",
    "            print(space * (level + 1) + 'Ø')\n",
    "\n",
    "    def to_tuple(self):\n",
    "        if self is None:\n",
    "            return None\n",
    "        if self.left is None and self.right is None:\n",
    "            return self.key\n",
    "        return TreeNode.to_tuple(self.left), self.key, TreeNode.to_tuple(self.right)\n",
    "\n",
    "    def __str__(self):\n",
    "        return \"BinaryTree <{}>\".format(self.to_tuple())\n",
    "\n",
    "    def _repr__(self):\n",
    "        return \"BinaryTree <{}>\".format(self.to_tuple())\n",
    "\n",
    "    @staticmethod\n",
    "    def parse_tuple(data):\n",
    "        if data is None:\n",
    "            node = None\n",
    "        elif isinstance(data, tuple) and len(data) == 3:\n",
    "            node = TreeNode(data[1])\n",
    "            node.left = TreeNode.parse_tuple(data[0])\n",
    "            node.right = TreeNode.parse_tuple(data[2])\n",
    "        else:\n",
    "            node = TreeNode(data)\n",
    "        return node\n"
   ]
  },
  {
   "cell_type": "code",
   "execution_count": 43,
   "metadata": {},
   "outputs": [],
   "source": [
    "tree1 = TreeNode.parse_tuple(((1, 3, None), 2, ((None, 3, 4), 5, (6, 7, 8))))"
   ]
  },
  {
   "cell_type": "code",
   "execution_count": 44,
   "metadata": {},
   "outputs": [
    {
     "data": {
      "text/plain": [
       "(False, 1, 8)"
      ]
     },
     "execution_count": 44,
     "metadata": {},
     "output_type": "execute_result"
    }
   ],
   "source": [
    "is_bst(tree1)"
   ]
  },
  {
   "cell_type": "code",
   "execution_count": 45,
   "metadata": {},
   "outputs": [],
   "source": [
    "tree2 = TreeNode.parse_tuple((('aakash', 'biraj', 'hemanth'), 'jadhesh', ('siddhant', 'sonaksh', 'vishal')))"
   ]
  },
  {
   "cell_type": "code",
   "execution_count": 46,
   "metadata": {},
   "outputs": [
    {
     "name": "stdout",
     "output_type": "stream",
     "text": [
      "\t\tvishal\n",
      "\tsonaksh\n",
      "\t\tsiddhant\n",
      "jadhesh\n",
      "\t\themanth\n",
      "\tbiraj\n",
      "\t\taakash\n"
     ]
    }
   ],
   "source": [
    "tree2.display_keys()"
   ]
  },
  {
   "cell_type": "code",
   "execution_count": 47,
   "metadata": {},
   "outputs": [
    {
     "data": {
      "text/plain": [
       "(True, 'aakash', 'vishal')"
      ]
     },
     "execution_count": 47,
     "metadata": {},
     "output_type": "execute_result"
    }
   ],
   "source": [
    "is_bst(tree2)"
   ]
  },
  {
   "cell_type": "markdown",
   "metadata": {},
   "source": [
    "#### Storing Key-Value Pairs using BSTs"
   ]
  },
  {
   "cell_type": "code",
   "execution_count": 4,
   "metadata": {},
   "outputs": [],
   "source": [
    "class BSTNode():\n",
    "    def __init__(self, key, value = None):\n",
    "        self.key = key\n",
    "        self.value = value\n",
    "        self.left = None\n",
    "        self.right = None\n",
    "        self.parent = None        "
   ]
  },
  {
   "cell_type": "code",
   "execution_count": 6,
   "metadata": {},
   "outputs": [
    {
     "name": "stdout",
     "output_type": "stream",
     "text": [
      "Executing cell: class User:\n",
      "    pass\n",
      "Executing cell: user1 = User()\n",
      "Executing cell: user1\n"
     ]
    },
    {
     "data": {
      "text/plain": [
       "<__main__.User at 0x299ffeafc80>"
      ]
     },
     "execution_count": 6,
     "metadata": {},
     "output_type": "execute_result"
    },
    {
     "name": "stdout",
     "output_type": "stream",
     "text": [
      "Executing cell: type(user1)\n"
     ]
    },
    {
     "data": {
      "text/plain": [
       "__main__.User"
      ]
     },
     "execution_count": 6,
     "metadata": {},
     "output_type": "execute_result"
    },
    {
     "name": "stdout",
     "output_type": "stream",
     "text": [
      "Executing cell: class User:\n",
      "    def __init__(self, username, name, email):\n",
      "        self.username = username\n",
      "        self.name = name\n",
      "        self.email = email\n",
      "        print('User Created!')\n",
      "Executing cell: user2 = User('john','John Doe', 'john@doe.com')\n",
      "User Created!\n",
      "Executing cell: user2\n"
     ]
    },
    {
     "data": {
      "text/plain": [
       "<__main__.User at 0x299ffeafe60>"
      ]
     },
     "execution_count": 6,
     "metadata": {},
     "output_type": "execute_result"
    },
    {
     "name": "stdout",
     "output_type": "stream",
     "text": [
      "Executing cell: user2.name\n"
     ]
    },
    {
     "data": {
      "text/plain": [
       "'John Doe'"
      ]
     },
     "execution_count": 6,
     "metadata": {},
     "output_type": "execute_result"
    },
    {
     "name": "stdout",
     "output_type": "stream",
     "text": [
      "Executing cell: user2.email, user2.username\n"
     ]
    },
    {
     "data": {
      "text/plain": [
       "('john@doe.com', 'john')"
      ]
     },
     "execution_count": 6,
     "metadata": {},
     "output_type": "execute_result"
    },
    {
     "name": "stdout",
     "output_type": "stream",
     "text": [
      "Executing cell: class User:\n",
      "    def __init__(self, username, name, email):\n",
      "        self.username = username\n",
      "        self.name = name\n",
      "        self.email = email\n",
      "        print('User Created!')\n",
      "    \n",
      "    def introduce_yourself(self, guest_name):\n",
      "        print(\"Hi {}, I'm {}! Contact me at {}.\".format(guest_name, self.name, self.email))\n",
      "Executing cell: user3 = User('jane', 'Jane Doe', 'jane@doe.com')\n",
      "User Created!\n",
      "Executing cell: user3.introduce_yourself('David')\n",
      "Hi David, I'm Jane Doe! Contact me at jane@doe.com.\n",
      "Executing cell: class User:\n",
      "    def __init__(self, username, name, email):\n",
      "        self.username = username\n",
      "        self.name = name\n",
      "        self.email = email\n",
      "        print('User Created!')\n",
      "    \n",
      "    def __repr__(self):\n",
      "        return \"User(username = '{}', name = '{}', email = '{}')\".format(self.username, self.name, self.email)\n",
      "\n",
      "    def __str__(self):\n",
      "        return self.__repr__()    \n",
      "Executing cell: user5 = User('jane', 'Jane Doe', 'jane@doe.com')\n",
      "User Created!\n",
      "Executing cell: user5\n"
     ]
    },
    {
     "data": {
      "text/plain": [
       "User(username = 'jane', name = 'Jane Doe', email = 'jane@doe.com')"
      ]
     },
     "execution_count": 6,
     "metadata": {},
     "output_type": "execute_result"
    },
    {
     "name": "stdout",
     "output_type": "stream",
     "text": [
      "Executing cell: class UserDatabase:\n",
      "    def insert(self, user):\n",
      "        pass\n",
      "\n",
      "    def find(self, username):\n",
      "        pass\n",
      "\n",
      "    def update(self, user):\n",
      "        pass\n",
      "\n",
      "    def list_all(self):\n",
      "        pass        \n",
      "Executing cell: aakash = User('aakash', 'Aakash Rai', 'aakash@example.com')\n",
      "biraj = User('biraj', 'Biraj Das', 'biraj@example.com')\n",
      "hemanth = User('hemanth', 'Hemanth Jain', 'hemanth@example.com')\n",
      "jadhesh = User('jadhesh', 'Jadhesh Verma', 'jadhesh@example.com')\n",
      "siddhant = User('siddhant', 'Siddhant Sinha', 'siddhant@example.com')\n",
      "sonaksh = User('sonaksh', 'Sonaksh Kumar', 'sonaksh@example.com')\n",
      "vishal = User('vishal', 'Vishal Goel', 'vishal@example.com')\n",
      "User Created!\n",
      "User Created!\n",
      "User Created!\n",
      "User Created!\n",
      "User Created!\n",
      "User Created!\n",
      "User Created!\n",
      "Executing cell: users = [aakash, biraj, hemanth, jadhesh, siddhant, sonaksh, vishal]\n",
      "Executing cell: biraj.username, biraj.email, biraj.name\n"
     ]
    },
    {
     "data": {
      "text/plain": [
       "('biraj', 'biraj@example.com', 'Biraj Das')"
      ]
     },
     "execution_count": 6,
     "metadata": {},
     "output_type": "execute_result"
    },
    {
     "name": "stdout",
     "output_type": "stream",
     "text": [
      "Executing cell: print(aakash)\n",
      "User(username = 'aakash', name = 'Aakash Rai', email = 'aakash@example.com')\n",
      "Executing cell: users\n"
     ]
    },
    {
     "data": {
      "text/plain": [
       "[User(username = 'aakash', name = 'Aakash Rai', email = 'aakash@example.com'),\n",
       " User(username = 'biraj', name = 'Biraj Das', email = 'biraj@example.com'),\n",
       " User(username = 'hemanth', name = 'Hemanth Jain', email = 'hemanth@example.com'),\n",
       " User(username = 'jadhesh', name = 'Jadhesh Verma', email = 'jadhesh@example.com'),\n",
       " User(username = 'siddhant', name = 'Siddhant Sinha', email = 'siddhant@example.com'),\n",
       " User(username = 'sonaksh', name = 'Sonaksh Kumar', email = 'sonaksh@example.com'),\n",
       " User(username = 'vishal', name = 'Vishal Goel', email = 'vishal@example.com')]"
      ]
     },
     "execution_count": 6,
     "metadata": {},
     "output_type": "execute_result"
    },
    {
     "name": "stdout",
     "output_type": "stream",
     "text": [
      "Executing cell: 'biraj' < 'hemanth'\n"
     ]
    },
    {
     "data": {
      "text/plain": [
       "True"
      ]
     },
     "execution_count": 6,
     "metadata": {},
     "output_type": "execute_result"
    },
    {
     "name": "stdout",
     "output_type": "stream",
     "text": [
      "Executing cell: class UserDatabase:\n",
      "    def __init__(self):\n",
      "        self.users = []\n",
      "    \n",
      "    def insert(self, user):\n",
      "        i=0\n",
      "        while i < len(self.users):\n",
      "            # Find the first username greater than the new user's username\n",
      "            if self.users[i].username > user.username:\n",
      "                break\n",
      "            i += 1\n",
      "        self.users.insert(i, user)\n",
      "    \n",
      "    def find(self, username):\n",
      "        for user in self.users:\n",
      "            if user.username == username:\n",
      "                return user\n",
      "    \n",
      "    def update(self, user):\n",
      "        target = self.find(user.username)\n",
      "        target.name, target.email = user.name, user.email\n",
      "    \n",
      "    def list_all(self):\n",
      "        return self.users\n",
      "Executing cell: database = UserDatabase()\n",
      "Executing cell: database.insert(hemanth)\n",
      "database.insert(aakash)\n",
      "database.insert(siddhant)\n",
      "Executing cell: user = database.find('siddhant')\n",
      "user\n"
     ]
    },
    {
     "data": {
      "text/plain": [
       "User(username = 'siddhant', name = 'Siddhant Sinha', email = 'siddhant@example.com')"
      ]
     },
     "execution_count": 6,
     "metadata": {},
     "output_type": "execute_result"
    },
    {
     "name": "stdout",
     "output_type": "stream",
     "text": [
      "Executing cell: database.update(User(username='siddhant',name='Siddhant U', email='siddhantu@example.com'))\n",
      "User Created!\n",
      "Executing cell: user = database.find('siddhant')\n",
      "user\n"
     ]
    },
    {
     "data": {
      "text/plain": [
       "User(username = 'siddhant', name = 'Siddhant U', email = 'siddhantu@example.com')"
      ]
     },
     "execution_count": 6,
     "metadata": {},
     "output_type": "execute_result"
    },
    {
     "name": "stdout",
     "output_type": "stream",
     "text": [
      "Executing cell: database.list_all()\n"
     ]
    },
    {
     "data": {
      "text/plain": [
       "[User(username = 'aakash', name = 'Aakash Rai', email = 'aakash@example.com'),\n",
       " User(username = 'hemanth', name = 'Hemanth Jain', email = 'hemanth@example.com'),\n",
       " User(username = 'siddhant', name = 'Siddhant U', email = 'siddhantu@example.com')]"
      ]
     },
     "execution_count": 6,
     "metadata": {},
     "output_type": "execute_result"
    },
    {
     "name": "stdout",
     "output_type": "stream",
     "text": [
      "Executing cell: database.insert(biraj)\n",
      "Executing cell: database.list_all()\n"
     ]
    },
    {
     "data": {
      "text/plain": [
       "[User(username = 'aakash', name = 'Aakash Rai', email = 'aakash@example.com'),\n",
       " User(username = 'biraj', name = 'Biraj Das', email = 'biraj@example.com'),\n",
       " User(username = 'hemanth', name = 'Hemanth Jain', email = 'hemanth@example.com'),\n",
       " User(username = 'siddhant', name = 'Siddhant U', email = 'siddhantu@example.com')]"
      ]
     },
     "execution_count": 6,
     "metadata": {},
     "output_type": "execute_result"
    },
    {
     "name": "stdout",
     "output_type": "stream",
     "text": [
      "Executing cell: %%time\n",
      "for i in range(100000000):\n",
      "    j = i*i\n",
      "CPU times: total: 7.69 s\n",
      "Wall time: 7.73 s\n"
     ]
    }
   ],
   "source": [
    "import nbformat\n",
    "from IPython.core.interactiveshell import InteractiveShell\n",
    "\n",
    "# Specify the path to the notebook\n",
    "notebook_path = 'creating_classes.ipynb'  # Replace with your notebook's filename\n",
    "\n",
    "# Open and read the notebook\n",
    "with open(notebook_path, 'r', encoding='utf-8') as f:\n",
    "    notebook = nbformat.read(f, as_version=4)\n",
    "\n",
    "# Create an InteractiveShell instance\n",
    "shell = InteractiveShell.instance()\n",
    "\n",
    "# Execute each code cell\n",
    "for cell in notebook.cells:\n",
    "    if cell.cell_type == 'code':  # Execute only code cells\n",
    "        print(f\"Executing cell: {cell.source}\")  # Optional: To see the code being executed\n",
    "        shell.run_cell(cell.source)"
   ]
  },
  {
   "cell_type": "code",
   "execution_count": 7,
   "metadata": {},
   "outputs": [],
   "source": [
    "# Level 0\n",
    "tree = BSTNode(jadhesh.username, jadhesh)"
   ]
  },
  {
   "cell_type": "code",
   "execution_count": 8,
   "metadata": {},
   "outputs": [
    {
     "data": {
      "text/plain": [
       "('jadhesh',\n",
       " User(username = 'jadhesh', name = 'Jadhesh Verma', email = 'jadhesh@example.com'))"
      ]
     },
     "execution_count": 8,
     "metadata": {},
     "output_type": "execute_result"
    }
   ],
   "source": [
    "# View Level 0\n",
    "tree.key, tree.value"
   ]
  },
  {
   "cell_type": "code",
   "execution_count": 10,
   "metadata": {},
   "outputs": [],
   "source": [
    "# Level 1\n",
    "tree.left = BSTNode(biraj.username, biraj)\n",
    "tree.left.parent = tree\n",
    "tree.right = BSTNode(sonaksh.username, sonaksh)\n",
    "tree.right.parent = tree"
   ]
  },
  {
   "cell_type": "code",
   "execution_count": 11,
   "metadata": {},
   "outputs": [
    {
     "data": {
      "text/plain": [
       "('biraj',\n",
       " User(username = 'biraj', name = 'Biraj Das', email = 'biraj@example.com'),\n",
       " 'sonaksh',\n",
       " User(username = 'sonaksh', name = 'Sonaksh Kumar', email = 'sonaksh@example.com'))"
      ]
     },
     "execution_count": 11,
     "metadata": {},
     "output_type": "execute_result"
    }
   ],
   "source": [
    "# View Level 1\n",
    "tree.left.key, tree.left.value, tree.right.key, tree.right.value"
   ]
  }
 ],
 "metadata": {
  "kernelspec": {
   "display_name": "Python 3",
   "language": "python",
   "name": "python3"
  },
  "language_info": {
   "codemirror_mode": {
    "name": "ipython",
    "version": 3
   },
   "file_extension": ".py",
   "mimetype": "text/x-python",
   "name": "python",
   "nbconvert_exporter": "python",
   "pygments_lexer": "ipython3",
   "version": "3.12.3"
  }
 },
 "nbformat": 4,
 "nbformat_minor": 2
}
