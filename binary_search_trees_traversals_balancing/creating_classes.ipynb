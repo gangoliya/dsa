{
 "cells": [
  {
   "cell_type": "markdown",
   "metadata": {},
   "source": [
    "A Python class would be great way to represent the information for a user. A class is a blueprint for creatig objects. Everything in Python is an object belonging to some class. Here's the simplest possible class in Python, with nothing in it:"
   ]
  },
  {
   "cell_type": "code",
   "execution_count": 1,
   "metadata": {},
   "outputs": [],
   "source": [
    "class User:\n",
    "    pass"
   ]
  },
  {
   "cell_type": "markdown",
   "metadata": {},
   "source": [
    "We can create or instantiate an object of the class by calling it like a function."
   ]
  },
  {
   "cell_type": "code",
   "execution_count": 2,
   "metadata": {},
   "outputs": [],
   "source": [
    "user1 = User()"
   ]
  },
  {
   "cell_type": "code",
   "execution_count": 3,
   "metadata": {},
   "outputs": [
    {
     "data": {
      "text/plain": [
       "<__main__.User at 0x237f4da4050>"
      ]
     },
     "execution_count": 3,
     "metadata": {},
     "output_type": "execute_result"
    }
   ],
   "source": [
    "user1"
   ]
  },
  {
   "cell_type": "code",
   "execution_count": 4,
   "metadata": {},
   "outputs": [
    {
     "data": {
      "text/plain": [
       "__main__.User"
      ]
     },
     "execution_count": 4,
     "metadata": {},
     "output_type": "execute_result"
    }
   ],
   "source": [
    "type(user1)"
   ]
  },
  {
   "cell_type": "markdown",
   "metadata": {},
   "source": [
    "The object `user1` does not contain any useful information. Let's add a constructor method to the class to store some attributes."
   ]
  },
  {
   "cell_type": "code",
   "execution_count": 1,
   "metadata": {},
   "outputs": [],
   "source": [
    "class User:\n",
    "    def __init__(self, username, name, email):\n",
    "        self.username = username\n",
    "        self.name = name\n",
    "        self.email = email\n",
    "        print('User Created!')"
   ]
  },
  {
   "cell_type": "code",
   "execution_count": 2,
   "metadata": {},
   "outputs": [
    {
     "name": "stdout",
     "output_type": "stream",
     "text": [
      "User Created!\n"
     ]
    }
   ],
   "source": [
    "user2 = User('john','John Doe', 'john@doe.com')"
   ]
  },
  {
   "cell_type": "code",
   "execution_count": 3,
   "metadata": {},
   "outputs": [
    {
     "data": {
      "text/plain": [
       "<__main__.User at 0x281d1294980>"
      ]
     },
     "execution_count": 3,
     "metadata": {},
     "output_type": "execute_result"
    }
   ],
   "source": [
    "user2"
   ]
  },
  {
   "cell_type": "markdown",
   "metadata": {},
   "source": [
    "Here's what's happening above (conceptually):\n",
    "- Python creates an empty object of the type user and stores in the variable user2\n",
    "- Python then invokes the function `User.__init__` with the arguments `user2`, `\"john\"`, `\"John Doe\"` and `\"john@doe.com\"`\n",
    "- As the `__init__` function is executed, the properties `username`, `name` and `email` are set on the object `user2` "
   ]
  },
  {
   "cell_type": "code",
   "execution_count": 4,
   "metadata": {},
   "outputs": [
    {
     "data": {
      "text/plain": [
       "'John Doe'"
      ]
     },
     "execution_count": 4,
     "metadata": {},
     "output_type": "execute_result"
    }
   ],
   "source": [
    "user2.name"
   ]
  },
  {
   "cell_type": "code",
   "execution_count": 5,
   "metadata": {},
   "outputs": [
    {
     "data": {
      "text/plain": [
       "('john@doe.com', 'john')"
      ]
     },
     "execution_count": 5,
     "metadata": {},
     "output_type": "execute_result"
    }
   ],
   "source": [
    "user2.email, user2.username"
   ]
  },
  {
   "cell_type": "code",
   "execution_count": 6,
   "metadata": {},
   "outputs": [],
   "source": [
    "class User:\n",
    "    def __init__(self, username, name, email):\n",
    "        self.username = username\n",
    "        self.name = name\n",
    "        self.email = email\n",
    "        print('User Created!')\n",
    "    \n",
    "    def introduce_yourself(self, guest_name):\n",
    "        print(\"Hi {}, I'm {}! Contact me at {}.\".format(guest_name, self.name, self.email))"
   ]
  },
  {
   "cell_type": "code",
   "execution_count": 7,
   "metadata": {},
   "outputs": [
    {
     "name": "stdout",
     "output_type": "stream",
     "text": [
      "User Created!\n"
     ]
    }
   ],
   "source": [
    "user3 = User('jane', 'Jane Doe', 'jane@doe.com')"
   ]
  },
  {
   "cell_type": "code",
   "execution_count": 8,
   "metadata": {},
   "outputs": [
    {
     "name": "stdout",
     "output_type": "stream",
     "text": [
      "Hi David, I'm Jane Doe! Contact me at jane@doe.com.\n"
     ]
    }
   ],
   "source": [
    "user3.introduce_yourself('David')"
   ]
  },
  {
   "cell_type": "markdown",
   "metadata": {},
   "source": [
    "When we try to invoke the method `user3.introduce_yourself`, the object `user3` is automatically passed as the first argument `self`. Indeed, the following statement is equivalent to the above statement."
   ]
  },
  {
   "cell_type": "markdown",
   "metadata": {},
   "source": [
    "Finally, we'll define a couple of helper methods to display user objects nicely within Jupyter Notebook. "
   ]
  },
  {
   "cell_type": "code",
   "execution_count": 27,
   "metadata": {},
   "outputs": [],
   "source": [
    "class User:\n",
    "    def __init__(self, username, name, email):\n",
    "        self.username = username\n",
    "        self.name = name\n",
    "        self.email = email\n",
    "        print('User Created!')\n",
    "    \n",
    "    def __repr__(self):\n",
    "        return \"User(username = '{}', name = '{}', email = '{}')\".format(self.username, self.name, self.email)\n",
    "\n",
    "    def __str__(self):\n",
    "        return self.__repr__()    "
   ]
  },
  {
   "cell_type": "code",
   "execution_count": 28,
   "metadata": {},
   "outputs": [
    {
     "name": "stdout",
     "output_type": "stream",
     "text": [
      "User Created!\n"
     ]
    }
   ],
   "source": [
    "user5 = User('jane', 'Jane Doe', 'jane@doe.com')"
   ]
  },
  {
   "cell_type": "code",
   "execution_count": 29,
   "metadata": {},
   "outputs": [
    {
     "data": {
      "text/plain": [
       "User(username = 'jane', name = 'Jane Doe', email = 'jane@doe.com')"
      ]
     },
     "execution_count": 29,
     "metadata": {},
     "output_type": "execute_result"
    }
   ],
   "source": [
    "user5"
   ]
  },
  {
   "cell_type": "markdown",
   "metadata": {},
   "source": [
    "**Output**  \n",
    "We can also express our desired data structures as a Python class `UserDatabase` with four methods: `insert`, `find`, `update` and `list_all`. "
   ]
  },
  {
   "cell_type": "code",
   "execution_count": 30,
   "metadata": {},
   "outputs": [],
   "source": [
    "class UserDatabase:\n",
    "    def insert(self, user):\n",
    "        pass\n",
    "\n",
    "    def find(self, username):\n",
    "        pass\n",
    "\n",
    "    def update(self, user):\n",
    "        pass\n",
    "\n",
    "    def list_all(self):\n",
    "        pass        "
   ]
  },
  {
   "cell_type": "markdown",
   "metadata": {},
   "source": [
    "It's a good programming practise to list out the signatures of different class functions before we actually implement the class."
   ]
  },
  {
   "cell_type": "markdown",
   "metadata": {},
   "source": [
    "## 2. Come up with some example inputs & outputs.   \n",
    "Let's create some sample user profiles that we can use to test our fucntions once we implement them."
   ]
  },
  {
   "cell_type": "code",
   "execution_count": 31,
   "metadata": {},
   "outputs": [
    {
     "name": "stdout",
     "output_type": "stream",
     "text": [
      "User Created!\n",
      "User Created!\n",
      "User Created!\n",
      "User Created!\n",
      "User Created!\n",
      "User Created!\n",
      "User Created!\n"
     ]
    }
   ],
   "source": [
    "aakash = User('aakash', 'Aakash Rai', 'aakash@example.com')\n",
    "biraj = User('biraj', 'Biraj Das', 'biraj@example.com')\n",
    "hemanth = User('hemanth', 'Hemanth Jain', 'hemanth@example.com')\n",
    "jadhesh = User('jadhesh', 'Jadhesh Verma', 'jadhesh@example.com')\n",
    "siddhant = User('siddhant', 'Siddhant Sinha', 'siddhant@example.com')\n",
    "sonaksh = User('sonaksh', 'Sonaksh Kumar', 'sonaksh@example.com')\n",
    "vishal = User('vishal', 'Vishal Goel', 'vishal@example.com')"
   ]
  },
  {
   "cell_type": "code",
   "execution_count": 32,
   "metadata": {},
   "outputs": [],
   "source": [
    "users = [aakash, biraj, hemanth, jadhesh, siddhant, sonaksh, vishal]"
   ]
  },
  {
   "cell_type": "markdown",
   "metadata": {},
   "source": [
    "We can access different fields within a user profile object using the `.`(dot) notation."
   ]
  },
  {
   "cell_type": "code",
   "execution_count": 33,
   "metadata": {},
   "outputs": [
    {
     "data": {
      "text/plain": [
       "('biraj', 'biraj@example.com', 'Biraj Das')"
      ]
     },
     "execution_count": 33,
     "metadata": {},
     "output_type": "execute_result"
    }
   ],
   "source": [
    "biraj.username, biraj.email, biraj.name"
   ]
  },
  {
   "cell_type": "markdown",
   "metadata": {},
   "source": [
    "We can also view the string representation of the object, since defined the `__repr__` and `__str__` methods. "
   ]
  },
  {
   "cell_type": "code",
   "execution_count": 34,
   "metadata": {},
   "outputs": [
    {
     "name": "stdout",
     "output_type": "stream",
     "text": [
      "User(username = 'aakash', name = 'Aakash Rai', email = 'aakash@example.com')\n"
     ]
    }
   ],
   "source": [
    "print(aakash)"
   ]
  },
  {
   "cell_type": "code",
   "execution_count": 35,
   "metadata": {},
   "outputs": [
    {
     "data": {
      "text/plain": [
       "[User(username = 'aakash', name = 'Aakash Rai', email = 'aakash@example.com'),\n",
       " User(username = 'biraj', name = 'Biraj Das', email = 'biraj@example.com'),\n",
       " User(username = 'hemanth', name = 'Hemanth Jain', email = 'hemanth@example.com'),\n",
       " User(username = 'jadhesh', name = 'Jadhesh Verma', email = 'jadhesh@example.com'),\n",
       " User(username = 'siddhant', name = 'Siddhant Sinha', email = 'siddhant@example.com'),\n",
       " User(username = 'sonaksh', name = 'Sonaksh Kumar', email = 'sonaksh@example.com'),\n",
       " User(username = 'vishal', name = 'Vishal Goel', email = 'vishal@example.com')]"
      ]
     },
     "execution_count": 35,
     "metadata": {},
     "output_type": "execute_result"
    }
   ],
   "source": [
    "users"
   ]
  },
  {
   "cell_type": "markdown",
   "metadata": {},
   "source": [
    "Since we haven't implemented our data structure yet, it's not possible to list sample outputs.  \n",
    "However you can try to come up with different scenarios to test future implementations.  \n",
    "  \n",
    "**Exercise:** List some scenarios for testing the class method `insert`, `find`, `update` and `list_all`.  \n",
    "  \n",
    "1. Insert:  \n",
    "        A. Inserting into an empty database for users.  \n",
    "        B. Trying to insert a user with a username that already exists.  \n",
    "        C. Inserting a user with a username that does not exist.\n",
    "2. Find:\n",
    "3. Update\n",
    "4. List"
   ]
  },
  {
   "cell_type": "markdown",
   "metadata": {},
   "source": [
    "## Come up with a correct solution. State it in plain English.\n",
    "Here's a simple and easy solution to the problem: we store the `User` objects in a list sorted by usernames.\n",
    "The various functions can be implemented as follows:\n",
    "1. **Insert:** Loop through the list and add the new user at a position that keeps the list sorted.  \n",
    "2. **Find:** Loop through the list and find the user object with the username matching the query.  \n",
    "3. **Update:** Loop through the list, find the user object matching the query and update the details.  \n",
    "4. **List:** Return the list of user objects.\n",
    "  \n",
    "We can use the fact usernames, which are strings can be compared using `<`, `>` and `==` operators in python."
   ]
  },
  {
   "cell_type": "code",
   "execution_count": 36,
   "metadata": {},
   "outputs": [
    {
     "data": {
      "text/plain": [
       "True"
      ]
     },
     "execution_count": 36,
     "metadata": {},
     "output_type": "execute_result"
    }
   ],
   "source": [
    "'biraj' < 'hemanth'"
   ]
  },
  {
   "cell_type": "markdown",
   "metadata": {},
   "source": [
    "## 4. Implement the solution and test it using example inputs.\n",
    "The code for implementing the above solution is also fairly straightforward."
   ]
  },
  {
   "cell_type": "code",
   "execution_count": 37,
   "metadata": {},
   "outputs": [],
   "source": [
    "class UserDatabase:\n",
    "    def __init__(self):\n",
    "        self.users = []\n",
    "    \n",
    "    def insert(self, user):\n",
    "        i=0\n",
    "        while i < len(self.users):\n",
    "            # Find the first username greater than the new user's username\n",
    "            if self.users[i].username > user.username:\n",
    "                break\n",
    "            i += 1\n",
    "        self.users.insert(i, user)\n",
    "    \n",
    "    def find(self, username):\n",
    "        for user in self.users:\n",
    "            if user.username == username:\n",
    "                return user\n",
    "    \n",
    "    def update(self, user):\n",
    "        target = self.find(user.username)\n",
    "        target.name, target.email = user.name, user.email\n",
    "    \n",
    "    def list_all(self):\n",
    "        return self.users"
   ]
  },
  {
   "cell_type": "markdown",
   "metadata": {},
   "source": [
    "We can create a new database of users by _instantiating_ and object of the `UserDatabase` class."
   ]
  },
  {
   "cell_type": "code",
   "execution_count": 38,
   "metadata": {},
   "outputs": [],
   "source": [
    "database = UserDatabase()"
   ]
  },
  {
   "cell_type": "markdown",
   "metadata": {},
   "source": [
    "Let's insert some entries into the object."
   ]
  },
  {
   "cell_type": "code",
   "execution_count": 39,
   "metadata": {},
   "outputs": [],
   "source": [
    "database.insert(hemanth)\n",
    "database.insert(aakash)\n",
    "database.insert(siddhant)"
   ]
  },
  {
   "cell_type": "markdown",
   "metadata": {},
   "source": [
    "We can now retrieve the data for a user, given the username."
   ]
  },
  {
   "cell_type": "code",
   "execution_count": 40,
   "metadata": {},
   "outputs": [
    {
     "data": {
      "text/plain": [
       "User(username = 'siddhant', name = 'Siddhant Sinha', email = 'siddhant@example.com')"
      ]
     },
     "execution_count": 40,
     "metadata": {},
     "output_type": "execute_result"
    }
   ],
   "source": [
    "user = database.find('siddhant')\n",
    "user"
   ]
  },
  {
   "cell_type": "markdown",
   "metadata": {},
   "source": [
    "Let's try changing the information for a user."
   ]
  },
  {
   "cell_type": "code",
   "execution_count": 41,
   "metadata": {},
   "outputs": [
    {
     "name": "stdout",
     "output_type": "stream",
     "text": [
      "User Created!\n"
     ]
    }
   ],
   "source": [
    "database.update(User(username='siddhant',name='Siddhant U', email='siddhantu@example.com'))"
   ]
  },
  {
   "cell_type": "code",
   "execution_count": 42,
   "metadata": {},
   "outputs": [
    {
     "data": {
      "text/plain": [
       "User(username = 'siddhant', name = 'Siddhant U', email = 'siddhantu@example.com')"
      ]
     },
     "execution_count": 42,
     "metadata": {},
     "output_type": "execute_result"
    }
   ],
   "source": [
    "user = database.find('siddhant')\n",
    "user"
   ]
  },
  {
   "cell_type": "markdown",
   "metadata": {},
   "source": [
    "Finally, we can retrieve a list of users in alphabetical order."
   ]
  },
  {
   "cell_type": "code",
   "execution_count": 43,
   "metadata": {},
   "outputs": [
    {
     "data": {
      "text/plain": [
       "[User(username = 'aakash', name = 'Aakash Rai', email = 'aakash@example.com'),\n",
       " User(username = 'hemanth', name = 'Hemanth Jain', email = 'hemanth@example.com'),\n",
       " User(username = 'siddhant', name = 'Siddhant U', email = 'siddhantu@example.com')]"
      ]
     },
     "execution_count": 43,
     "metadata": {},
     "output_type": "execute_result"
    }
   ],
   "source": [
    "database.list_all()"
   ]
  },
  {
   "cell_type": "markdown",
   "metadata": {},
   "source": [
    "Let's verify that a new user is inserted into the correct position."
   ]
  },
  {
   "cell_type": "code",
   "execution_count": 44,
   "metadata": {},
   "outputs": [],
   "source": [
    "database.insert(biraj)"
   ]
  },
  {
   "cell_type": "code",
   "execution_count": 45,
   "metadata": {},
   "outputs": [
    {
     "data": {
      "text/plain": [
       "[User(username = 'aakash', name = 'Aakash Rai', email = 'aakash@example.com'),\n",
       " User(username = 'biraj', name = 'Biraj Das', email = 'biraj@example.com'),\n",
       " User(username = 'hemanth', name = 'Hemanth Jain', email = 'hemanth@example.com'),\n",
       " User(username = 'siddhant', name = 'Siddhant U', email = 'siddhantu@example.com')]"
      ]
     },
     "execution_count": 45,
     "metadata": {},
     "output_type": "execute_result"
    }
   ],
   "source": [
    "database.list_all()"
   ]
  },
  {
   "cell_type": "markdown",
   "metadata": {},
   "source": [
    "The user `biraj` was inserted just before `hemanth`, as expected.  \n",
    "**Exercise:** Use the empty cells beow to test the various scenarios you listed in step 2 above."
   ]
  },
  {
   "cell_type": "code",
   "execution_count": null,
   "metadata": {},
   "outputs": [],
   "source": []
  }
 ],
 "metadata": {
  "kernelspec": {
   "display_name": "Python 3",
   "language": "python",
   "name": "python3"
  },
  "language_info": {
   "codemirror_mode": {
    "name": "ipython",
    "version": 3
   },
   "file_extension": ".py",
   "mimetype": "text/x-python",
   "name": "python",
   "nbconvert_exporter": "python",
   "pygments_lexer": "ipython3",
   "version": "3.13.1"
  }
 },
 "nbformat": 4,
 "nbformat_minor": 2
}
